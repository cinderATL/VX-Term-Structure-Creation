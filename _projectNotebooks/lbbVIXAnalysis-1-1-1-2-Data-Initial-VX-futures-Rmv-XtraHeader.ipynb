{
 "cells": [
  {
   "cell_type": "code",
   "execution_count": 2,
   "metadata": {},
   "outputs": [],
   "source": [
    "#lbbVIXAnalysis-1-1-2-Data-Initial-VX-futures-Rmv-XtraHeader\n",
    "import csv\n",
    "import os"
   ]
  },
  {
   "cell_type": "code",
   "execution_count": 3,
   "metadata": {},
   "outputs": [
    {
     "data": {
      "text/plain": [
       "'C:\\\\Users\\\\cinderella\\\\dataSci\\\\DataScience\\\\eliteDataScience\\\\07-CapstoneProject\\\\Final\\\\_projectNotebooks'"
      ]
     },
     "execution_count": 3,
     "metadata": {},
     "output_type": "execute_result"
    }
   ],
   "source": [
    "os.getcwd()"
   ]
  },
  {
   "cell_type": "code",
   "execution_count": 4,
   "metadata": {},
   "outputs": [],
   "source": [
    "os.chdir('C:\\\\Users\\\\cinderella\\\\dataSci\\\\DataScience\\\\eliteDataScience\\\\07-CapstoneProject\\\\Final\\\\Data-RAW-VX\\problemsTwoHeaderLines')"
   ]
  },
  {
   "cell_type": "code",
   "execution_count": 5,
   "metadata": {},
   "outputs": [
    {
     "name": "stdout",
     "output_type": "stream",
     "text": [
      "Removing header from CFE_F14_VX.csv...\n",
      "Removing header from CFE_F15_VX.csv...\n",
      "Removing header from CFE_F16_VX.csv...\n",
      "Removing header from CFE_F17_VX.csv...\n",
      "Removing header from CFE_G14_VX.csv...\n",
      "Removing header from CFE_G15_VX.csv...\n",
      "Removing header from CFE_G16_VX.csv...\n",
      "Removing header from CFE_G17_VX.csv...\n",
      "Removing header from CFE_H14_VX.csv...\n",
      "Removing header from CFE_H15_VX.csv...\n",
      "Removing header from CFE_H16_VX.csv...\n",
      "Removing header from CFE_H17_VX.csv...\n",
      "Removing header from CFE_J14_VX.csv...\n",
      "Removing header from CFE_J15_VX.csv...\n",
      "Removing header from CFE_J16_VX.csv...\n",
      "Removing header from CFE_J17_VX.csv...\n",
      "Removing header from CFE_K14_VX.csv...\n",
      "Removing header from CFE_K15_VX.csv...\n",
      "Removing header from CFE_K16_VX.csv...\n",
      "Removing header from CFE_K17_VX.csv...\n",
      "Removing header from CFE_M14_VX.csv...\n",
      "Removing header from CFE_M15_VX.csv...\n",
      "Removing header from CFE_M16_VX.csv...\n",
      "Removing header from CFE_M17_VX.csv...\n",
      "Removing header from CFE_N13_VX.csv...\n",
      "Removing header from CFE_N14_VX.csv...\n",
      "Removing header from CFE_N15_VX.csv...\n",
      "Removing header from CFE_N16_VX.csv...\n",
      "Removing header from CFE_N17_VX.csv...\n",
      "Removing header from CFE_Q13_VX.csv...\n",
      "Removing header from CFE_Q14_VX.csv...\n",
      "Removing header from CFE_Q15_VX.csv...\n",
      "Removing header from CFE_Q16_VX.csv...\n",
      "Removing header from CFE_Q17_VX.csv...\n",
      "Removing header from CFE_U13_VX.csv...\n",
      "Removing header from CFE_U14_VX.csv...\n",
      "Removing header from CFE_U15_VX.csv...\n",
      "Removing header from CFE_U16_VX.csv...\n",
      "Removing header from CFE_U17_VX.csv...\n",
      "Removing header from CFE_V13_VX.csv...\n",
      "Removing header from CFE_V14_VX.csv...\n",
      "Removing header from CFE_V15_VX.csv...\n",
      "Removing header from CFE_V16_VX.csv...\n",
      "Removing header from CFE_V17_VX.csv...\n",
      "Removing header from CFE_X13_VX.csv...\n",
      "Removing header from CFE_X14_VX.csv...\n",
      "Removing header from CFE_X15_VX.csv...\n",
      "Removing header from CFE_X16_VX.csv...\n",
      "Removing header from CFE_X17_VX.csv...\n",
      "Removing header from CFE_Z13_VX.csv...\n",
      "Removing header from CFE_Z14_VX.csv...\n",
      "Removing header from CFE_Z15_VX.csv...\n",
      "Removing header from CFE_Z16_VX.csv...\n",
      "Removing header from CFE_Z17_VX.csv...\n"
     ]
    }
   ],
   "source": [
    "#! python3\n",
    "# removeCsvHeader.py - Removes the extra header from all CSV files in the current working directory and puts the new\n",
    "# files into another directory called 'headerRemoved'\n",
    "\n",
    "os.makedirs('headerRemoved', exist_ok=True)\n",
    "\n",
    "# Loop through every file in the current working directory.\n",
    "for csvFilename in os.listdir('.'):\n",
    "    if not csvFilename.endswith('.csv'):\n",
    "        continue # skip non-csv files\n",
    "\n",
    "    print('Removing header from ' + csvFilename + '...')\n",
    "\n",
    "    # Read the CSV file in (skipping first row).\n",
    "    csvRows = []\n",
    "    csvFileObj = open(csvFilename)\n",
    "    readerObj = csv.reader(csvFileObj)\n",
    "    for row in readerObj:\n",
    "        if readerObj.line_num == 1:\n",
    "            continue # skip first row\n",
    "        csvRows.append(row)\n",
    "    csvFileObj.close()\n",
    "\n",
    "    # Write out the CSV file.\n",
    "    csvFileObj = open(os.path.join('headerRemoved', csvFilename), 'w', newline='')\n",
    "    csvWriter = csv.writer(csvFileObj)\n",
    "    for row in csvRows:\n",
    "        csvWriter.writerow(row)\n",
    "    csvFileObj.close()\n"
   ]
  },
  {
   "cell_type": "code",
   "execution_count": 6,
   "metadata": {},
   "outputs": [],
   "source": [
    "os.chdir('C:\\\\Users\\\\cinderella\\\\dataSci\\\\DataScience\\\\eliteDataScience\\\\07-CapstoneProject\\\\Final')"
   ]
  },
  {
   "cell_type": "markdown",
   "metadata": {},
   "source": [
    "<div class=\"alert alert-block alert-success\">Check one of the files in the 'headerRemoved' directory to make sure it has only one header!<br>\n",
    "    \n",
    "Then copy the files in the 'headerRemoved' directory to the main Data-RAW-VX so that the double header files are written over with the new one header files.</div>"
   ]
  },
  {
   "cell_type": "code",
   "execution_count": null,
   "metadata": {},
   "outputs": [],
   "source": []
  }
 ],
 "metadata": {
  "kernelspec": {
   "display_name": "Python 3",
   "language": "python",
   "name": "python3"
  },
  "language_info": {
   "codemirror_mode": {
    "name": "ipython",
    "version": 3
   },
   "file_extension": ".py",
   "mimetype": "text/x-python",
   "name": "python",
   "nbconvert_exporter": "python",
   "pygments_lexer": "ipython3",
   "version": "3.8.3"
  }
 },
 "nbformat": 4,
 "nbformat_minor": 4
}
