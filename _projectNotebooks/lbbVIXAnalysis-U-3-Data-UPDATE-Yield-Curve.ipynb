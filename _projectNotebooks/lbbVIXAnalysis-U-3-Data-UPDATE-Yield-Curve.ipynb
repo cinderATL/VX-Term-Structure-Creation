{
 "cells": [
  {
   "cell_type": "code",
   "execution_count": 2,
   "metadata": {},
   "outputs": [],
   "source": [
    "import pandas as pd\n",
    "import os"
   ]
  },
  {
   "cell_type": "code",
   "execution_count": 3,
   "metadata": {},
   "outputs": [
    {
     "data": {
      "text/plain": [
       "'C:\\\\Users\\\\cinderella\\\\dataSci\\\\DataScience\\\\eliteDataScience\\\\07-CapstoneProject\\\\Final\\\\_projectNotebooks'"
      ]
     },
     "execution_count": 3,
     "metadata": {},
     "output_type": "execute_result"
    }
   ],
   "source": [
    "os.getcwd()"
   ]
  },
  {
   "cell_type": "code",
   "execution_count": 4,
   "metadata": {},
   "outputs": [],
   "source": [
    "os.chdir('C:\\\\Users\\\\cinderella\\\\dataSci\\\\DataScience\\\\eliteDataScience\\\\07-CapstoneProject\\\\Final\\\\Data-RAW-YieldCurve')\n",
    "#os.getcwd()"
   ]
  },
  {
   "cell_type": "markdown",
   "metadata": {},
   "source": [
    "## Go to the website and copy paste data into excel"
   ]
  },
  {
   "cell_type": "code",
   "execution_count": 5,
   "metadata": {},
   "outputs": [],
   "source": [
    "## hyperlink is\n",
    "# https://www.treasury.gov/resource-center/data-chart-center/interest-rates/Pages/TextView.aspx?data=yieldAll"
   ]
  },
  {
   "cell_type": "markdown",
   "metadata": {},
   "source": [
    "### Then append rows from new excel spreadsheet to old .csv file in Data-LATEST-NotVX"
   ]
  },
  {
   "cell_type": "code",
   "execution_count": 6,
   "metadata": {},
   "outputs": [],
   "source": [
    "## Save the new excel file as a newFile.csv and into the Data-RAW-YieldCurve folder. Open the file and copy the new\n",
    "## rows only. Open the file called YieldCurve.csv in Data-LATEST-NotVX and append the rows to the file. Save the file with\n",
    "## the new rows as yieldCurve.csv but INTO THE Data-RAW-YieldCurve folder. Now you have two files called yieldCurve.csv\n",
    "## one in the Data-LATEST-NotVX folder and a new one you just appended data to in Data-RAW-YieldCurve.\n",
    "\n",
    "\n",
    "## After reviewing the new data in the Data-RAW-YieldCurve folder, if you are certain the results are as you expected, \n",
    "## move the file to the Data-LATEST-NotVX which will copy over the old file. "
   ]
  },
  {
   "cell_type": "code",
   "execution_count": 7,
   "metadata": {},
   "outputs": [],
   "source": [
    "os.chdir('C:\\\\Users\\\\cinderella\\\\dataSci\\\\DataScience\\\\eliteDataScience\\\\07-CapstoneProject\\\\Final\\\\')"
   ]
  },
  {
   "cell_type": "code",
   "execution_count": null,
   "metadata": {},
   "outputs": [],
   "source": []
  }
 ],
 "metadata": {
  "kernelspec": {
   "display_name": "Python 3",
   "language": "python",
   "name": "python3"
  },
  "language_info": {
   "codemirror_mode": {
    "name": "ipython",
    "version": 3
   },
   "file_extension": ".py",
   "mimetype": "text/x-python",
   "name": "python",
   "nbconvert_exporter": "python",
   "pygments_lexer": "ipython3",
   "version": "3.8.3"
  }
 },
 "nbformat": 4,
 "nbformat_minor": 4
}
