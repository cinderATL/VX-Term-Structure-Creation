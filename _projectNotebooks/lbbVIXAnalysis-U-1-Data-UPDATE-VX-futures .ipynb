{
 "cells": [
  {
   "cell_type": "code",
   "execution_count": 1,
   "metadata": {},
   "outputs": [],
   "source": [
    "import pandas as pd\n",
    "\n",
    "pd.set_option('display.max_columns',100)\n",
    "pd.set_option('display.max_rows', None)\n",
    "\n",
    "import requests\n",
    "\n",
    "import os\n",
    "from os import listdir\n"
   ]
  },
  {
   "cell_type": "code",
   "execution_count": 2,
   "metadata": {},
   "outputs": [
    {
     "data": {
      "text/plain": [
       "'C:\\\\Users\\\\cinderella\\\\dataSci\\\\DataScience\\\\eliteDataScience\\\\07-CapstoneProject\\\\Final\\\\_projectNotebooks'"
      ]
     },
     "execution_count": 2,
     "metadata": {},
     "output_type": "execute_result"
    }
   ],
   "source": [
    "os.getcwd()"
   ]
  },
  {
   "cell_type": "code",
   "execution_count": 3,
   "metadata": {},
   "outputs": [],
   "source": [
    "os.chdir('C:\\\\Users\\\\cinderella\\\\dataSci\\\\DataScience\\\\eliteDataScience\\\\07-CapstoneProject\\\\Final\\\\Data-RAW-VX')\n",
    "#os.getcwd()"
   ]
  },
  {
   "cell_type": "markdown",
   "metadata": {},
   "source": [
    "## STEP ONE -- JUST GET THE DATA"
   ]
  },
  {
   "cell_type": "markdown",
   "metadata": {},
   "source": [
    "## These are for VX files later this year (after August 11, 2020)\n",
    "Be sure there are no files in the Data-RAW-VX section"
   ]
  },
  {
   "cell_type": "code",
   "execution_count": 5,
   "metadata": {},
   "outputs": [],
   "source": [
    "url = \"https://markets.cboe.com/us/futures/market_statistics/historical_data/products/csv/VX/2021-01-20\"\n",
    "data = pd.read_csv(url)\n",
    "data.head\n",
    "data.to_csv(\"CFE_F21_VX.csv\")##updatable now"
   ]
  },
  {
   "cell_type": "code",
   "execution_count": 7,
   "metadata": {},
   "outputs": [],
   "source": [
    "url = \"https://markets.cboe.com/us/futures/market_statistics/historical_data/products/csv/VX/2021-02-17\"\n",
    "data = pd.read_csv(url)\n",
    "data.head\n",
    "data.to_csv(\"CFE_G21_VX.csv\")##updatable now"
   ]
  },
  {
   "cell_type": "code",
   "execution_count": 8,
   "metadata": {},
   "outputs": [],
   "source": [
    "url = \"https://markets.cboe.com/us/futures/market_statistics/historical_data/products/csv/VX/2021-03-17\"\n",
    "data = pd.read_csv(url)\n",
    "data.head\n",
    "data.to_csv(\"CFE_H21_VX.csv\")##updatable now"
   ]
  },
  {
   "cell_type": "code",
   "execution_count": 9,
   "metadata": {},
   "outputs": [],
   "source": [
    "url = \"https://markets.cboe.com/us/futures/market_statistics/historical_data/products/csv/VX/2021-04-21\"\n",
    "data = pd.read_csv(url)\n",
    "data.head\n",
    "data.to_csv(\"CFE_J21_VX.csv\")##updatable now (started around July 25, 2020)"
   ]
  },
  {
   "cell_type": "code",
   "execution_count": 10,
   "metadata": {},
   "outputs": [],
   "source": [
    "url = \"https://markets.cboe.com/us/futures/market_statistics/historical_data/products/csv/VX/2021-05-19\"\n",
    "data = pd.read_csv(url)\n",
    "data.head\n",
    "data.to_csv(\"CFE_K21_VX.csv\") ## updatable now (as of Aug, 22, 2020)"
   ]
  },
  {
   "cell_type": "code",
   "execution_count": 14,
   "metadata": {},
   "outputs": [
    {
     "name": "stdout",
     "output_type": "stream",
     "text": [
      "Couldn't find program: 'false'\n"
     ]
    }
   ],
   "source": [
    "%%script false --no-raise-error #Comment out this line when the time has come to run the coder\n",
    "url = \"https://markets.cboe.com/us/futures/market_statistics/historical_data/products/csv/VX/2021-06-16\"\n",
    "data = pd.read_csv(url)\n",
    "data.head\n",
    "data.to_csv(\"CFE_M21_VX.csv\") ## will not be online until September 19, 2020"
   ]
  },
  {
   "cell_type": "code",
   "execution_count": 15,
   "metadata": {},
   "outputs": [
    {
     "name": "stdout",
     "output_type": "stream",
     "text": [
      "Couldn't find program: 'false'\n"
     ]
    }
   ],
   "source": [
    "%%script false --no-raise-error #Comment out this line when the time has come to run the code\n",
    "url = \"https://markets.cboe.com/us/futures/market_statistics/historical_data/products/csv/VX/2021-07-21\"\n",
    "data = pd.read_csv(url)\n",
    "data.head\n",
    "data.to_csv(\"../Data-VIX-Raw/CFE_N21_VX.csv\")## will be online around October 24, 2020"
   ]
  },
  {
   "cell_type": "code",
   "execution_count": 16,
   "metadata": {},
   "outputs": [
    {
     "name": "stdout",
     "output_type": "stream",
     "text": [
      "Couldn't find program: 'false'\n"
     ]
    }
   ],
   "source": [
    "%%script false --no-raise-error #Comment out this line when the time has come to run the code\n",
    "url = \"https://markets.cboe.com/us/futures/market_statistics/historical_data/products/csv/VX/2021-08-18\"\n",
    "data = pd.read_csv(url)\n",
    "data.head\n",
    "data.to_csv(\"../Data-VIX-Raw/CFE_Q21_VX.csv\")## will be online around November 21, 2020"
   ]
  },
  {
   "cell_type": "code",
   "execution_count": 17,
   "metadata": {},
   "outputs": [
    {
     "name": "stdout",
     "output_type": "stream",
     "text": [
      "Couldn't find program: 'false'\n"
     ]
    }
   ],
   "source": [
    "%%script false --no-raise-error #Comment out this line when the time has come to run the code\n",
    "url = \"https://markets.cboe.com/us/futures/market_statistics/historical_data/products/csv/VX/2021-09-15\"\n",
    "data = pd.read_csv(url)\n",
    "data.head\n",
    "data.to_csv(\"../Data-VIX-Raw/CFE_U21_VX.csv\")## will be online around December 19, 2020"
   ]
  },
  {
   "cell_type": "code",
   "execution_count": 18,
   "metadata": {},
   "outputs": [
    {
     "name": "stdout",
     "output_type": "stream",
     "text": [
      "Couldn't find program: 'false'\n"
     ]
    }
   ],
   "source": [
    "%%script false --no-raise-error #Comment out this line when the time has come to run the code\n",
    "url = \"https://markets.cboe.com/us/futures/market_statistics/historical_data/products/csv/VX/2021-10-20\"\n",
    "data = pd.read_csv(url)\n",
    "data.head\n",
    "data.to_csv(\"../Data-VIX-Raw/CFE_V21_VX.csv\")## will be online around January 23, 2021"
   ]
  },
  {
   "cell_type": "code",
   "execution_count": 19,
   "metadata": {},
   "outputs": [
    {
     "name": "stdout",
     "output_type": "stream",
     "text": [
      "Couldn't find program: 'false'\n"
     ]
    }
   ],
   "source": [
    "%%script false --no-raise-error #Comment out this line when the time has come to run the code\n",
    "url = \"https://markets.cboe.com/us/futures/market_statistics/historical_data/products/csv/VX/2021-11-17\"\n",
    "data = pd.read_csv(url)\n",
    "data.head\n",
    "data.to_csv(\"../Data-VIX-Raw/CFE_X21_VX.csv\")## will be online around February 20, 2021"
   ]
  },
  {
   "cell_type": "code",
   "execution_count": 21,
   "metadata": {},
   "outputs": [
    {
     "name": "stdout",
     "output_type": "stream",
     "text": [
      "Couldn't find program: 'false'\n"
     ]
    }
   ],
   "source": [
    "%%script false --no-raise-error #Comment out this line when the time has come to run the code\n",
    "url = \"https://markets.cboe.com/us/futures/market_statistics/historical_data/products/csv/VX/2021-12-22\"\n",
    "data = pd.read_csv(url)\n",
    "data.head\n",
    "data.to_csv(\"../Data-VIX-Raw/CFE_Z21_VX.csv\")## will be online around March 27, 2021"
   ]
  },
  {
   "cell_type": "markdown",
   "metadata": {},
   "source": [
    "### Updates to 2020 contracts from August until the end of 2020"
   ]
  },
  {
   "cell_type": "code",
   "execution_count": 23,
   "metadata": {},
   "outputs": [],
   "source": [
    "url = \"https://markets.cboe.com/us/futures/market_statistics/historical_data/products/csv/VX/2020-08-19\"\n",
    "data = pd.read_csv(url)\n",
    "data.head\n",
    "data.to_csv(\"CFE_Q20_VX.csv\")## in case you don't have the final August file for 2020"
   ]
  },
  {
   "cell_type": "code",
   "execution_count": 24,
   "metadata": {},
   "outputs": [],
   "source": [
    "url = \"https://markets.cboe.com/us/futures/market_statistics/historical_data/products/csv/VX/2020-09-16\"\n",
    "data = pd.read_csv(url)\n",
    "data.head\n",
    "data.to_csv(\"CFE_U20_VX.csv\") ## final is on Sept 16th 2020"
   ]
  },
  {
   "cell_type": "code",
   "execution_count": 25,
   "metadata": {},
   "outputs": [],
   "source": [
    "url = \"https://markets.cboe.com/us/futures/market_statistics/historical_data/products/csv/VX/2020-10-21\"\n",
    "data = pd.read_csv(url)\n",
    "data.head\n",
    "data.to_csv(\"CFE_V20_VX.csv\") ## final is on Oct 21, 2020"
   ]
  },
  {
   "cell_type": "code",
   "execution_count": 26,
   "metadata": {},
   "outputs": [],
   "source": [
    "url = \"https://markets.cboe.com/us/futures/market_statistics/historical_data/products/csv/VX/2020-11-18\"\n",
    "data = pd.read_csv(url)\n",
    "data.head\n",
    "data.to_csv(\"CFE_X20_VX.csv\")## final is on Nov 18, 2020"
   ]
  },
  {
   "cell_type": "code",
   "execution_count": 27,
   "metadata": {},
   "outputs": [],
   "source": [
    "url = \"https://markets.cboe.com/us/futures/market_statistics/historical_data/products/csv/VX/2020-12-16\"\n",
    "data = pd.read_csv(url)\n",
    "data.head\n",
    "data.to_csv(\"CFE_Z20_VX.csv\")## final is on December 16, 2020"
   ]
  },
  {
   "cell_type": "code",
   "execution_count": 28,
   "metadata": {},
   "outputs": [],
   "source": [
    "os.chdir('C:\\\\Users\\\\cinderella\\\\dataSci\\\\DataScience\\\\eliteDataScience\\\\07-CapstoneProject\\\\Final\\\\')"
   ]
  }
 ],
 "metadata": {
  "kernelspec": {
   "display_name": "Python 3",
   "language": "python",
   "name": "python3"
  },
  "language_info": {
   "codemirror_mode": {
    "name": "ipython",
    "version": 3
   },
   "file_extension": ".py",
   "mimetype": "text/x-python",
   "name": "python",
   "nbconvert_exporter": "python",
   "pygments_lexer": "ipython3",
   "version": "3.8.3"
  }
 },
 "nbformat": 4,
 "nbformat_minor": 4
}
