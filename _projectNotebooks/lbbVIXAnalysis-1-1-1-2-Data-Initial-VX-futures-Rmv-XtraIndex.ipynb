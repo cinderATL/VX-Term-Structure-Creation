{
 "cells": [
  {
   "cell_type": "code",
   "execution_count": 1,
   "metadata": {},
   "outputs": [
    {
     "data": {
      "text/plain": [
       "'C:\\\\Users\\\\cinderella\\\\dataSci\\\\DataScience\\\\eliteDataScience\\\\07-CapstoneProject\\\\Final\\\\_projectNotebooks'"
      ]
     },
     "execution_count": 1,
     "metadata": {},
     "output_type": "execute_result"
    }
   ],
   "source": [
    "import csv\n",
    "import os\n",
    "\n",
    "os.getcwd()"
   ]
  },
  {
   "cell_type": "code",
   "execution_count": 2,
   "metadata": {},
   "outputs": [],
   "source": [
    "os.chdir('C:\\\\Users\\\\cinderella\\\\dataSci\\\\DataScience\\\\eliteDataScience\\\\07-CapstoneProject\\\\Final\\\\Data-RAW-VX\\problemsIndexed')"
   ]
  },
  {
   "cell_type": "code",
   "execution_count": 3,
   "metadata": {},
   "outputs": [
    {
     "name": "stdout",
     "output_type": "stream",
     "text": [
      "Removing index from CFE_F18_VX.csv...\n",
      "187Removing index from CFE_F19_VX.csv...\n",
      "188Removing index from CFE_F20_VX.csv...\n",
      "192Removing index from CFE_F21_VX.csv...\n",
      "89Removing index from CFE_G18_VX.csv...\n",
      "187Removing index from CFE_G19_VX.csv...\n",
      "187Removing index from CFE_G20_VX.csv...\n",
      "186Removing index from CFE_G21_VX.csv...\n",
      "64Removing index from CFE_H18_VX.csv...\n",
      "187Removing index from CFE_H19_VX.csv...\n",
      "186Removing index from CFE_H20_VX.csv...\n",
      "187Removing index from CFE_H21_VX.csv...\n",
      "45Removing index from CFE_J18_VX.csv...\n",
      "187Removing index from CFE_J19_VX.csv...\n",
      "188Removing index from CFE_J20_VX.csv...\n",
      "187Removing index from CFE_J21_VX.csv...\n",
      "21Removing index from CFE_K18_VX.csv...\n",
      "187Removing index from CFE_K19_VX.csv...\n",
      "187Removing index from CFE_K20_VX.csv...\n",
      "187Removing index from CFE_K21_VX.csv...\n",
      "1Removing index from CFE_M18_VX.csv...\n",
      "187Removing index from CFE_M19_VX.csv...\n",
      "187Removing index from CFE_M20_VX.csv...\n",
      "187Removing index from CFE_N18_VX.csv...\n",
      "186Removing index from CFE_N19_VX.csv...\n",
      "186Removing index from CFE_N20_VX.csv...\n",
      "191Removing index from CFE_Q18_VX.csv...\n",
      "191Removing index from CFE_Q19_VX.csv...\n",
      "187Removing index from CFE_Q20_VX.csv...\n",
      "186Removing index from CFE_U18_VX.csv...\n",
      "186Removing index from CFE_U19_VX.csv...\n",
      "186Removing index from CFE_U20_VX.csv...\n",
      "179Removing index from CFE_V18_VX.csv...\n",
      "189Removing index from CFE_V19_VX.csv...\n",
      "188Removing index from CFE_V20_VX.csv...\n",
      "179Removing index from CFE_X18_VX.csv...\n",
      "194Removing index from CFE_X19_VX.csv...\n",
      "194Removing index from CFE_X20_VX.csv...\n",
      "179Removing index from CFE_Z18_VX.csv...\n",
      "189Removing index from CFE_Z19_VX.csv...\n",
      "189Removing index from CFE_Z20_VX.csv...\n",
      "108"
     ]
    }
   ],
   "source": [
    "os.makedirs('indexRemoved', exist_ok=True)\n",
    "\n",
    "# Loop through every file in the current working directory.\n",
    "for csvFilename in os.listdir('.'):\n",
    "    if not csvFilename.endswith('.csv'):\n",
    "        continue # skip non-csv files\n",
    "\n",
    "    print('Removing index from ' + csvFilename + '...')\n",
    "#input_file = 'input.csv'\n",
    "#output_file = 'output.csv'\n",
    "    csvRows = []\n",
    "    cols_to_remove = [0] # Column indexes to be removed (starts at 0)\n",
    "    cols_to_remove = sorted(cols_to_remove, reverse=True) # Reverse so we remove from the end first\n",
    "    row_count = 0 # Current amount of rows processed\n",
    "\n",
    "    csvFileObj = open(csvFilename)\n",
    "    readerObj = csv.reader(csvFileObj)\n",
    "    \n",
    "    for row in readerObj:\n",
    "        row_count += 1\n",
    "        print('\\r{0}'.format(row_count), end='') # Print rows processed\n",
    "        for col_index in cols_to_remove:\n",
    "            del row[col_index]\n",
    "        csvRows.append(row)\n",
    "    csvFileObj.close()\n",
    "    \n",
    "    # Write out the CSV file.\n",
    "    csvFileObj = open(os.path.join('indexRemoved', csvFilename), 'w', newline='')\n",
    "    csvWriter = csv.writer(csvFileObj)\n",
    "    for row in csvRows:\n",
    "        csvWriter.writerow(row)\n",
    "    csvFileObj.close()"
   ]
  },
  {
   "cell_type": "code",
   "execution_count": 4,
   "metadata": {},
   "outputs": [],
   "source": [
    "os.chdir('C:\\\\Users\\\\cinderella\\\\dataSci\\\\DataScience\\\\eliteDataScience\\\\07-CapstoneProject\\\\Final')"
   ]
  },
  {
   "cell_type": "code",
   "execution_count": null,
   "metadata": {},
   "outputs": [],
   "source": []
  }
 ],
 "metadata": {
  "kernelspec": {
   "display_name": "Python 3",
   "language": "python",
   "name": "python3"
  },
  "language_info": {
   "codemirror_mode": {
    "name": "ipython",
    "version": 3
   },
   "file_extension": ".py",
   "mimetype": "text/x-python",
   "name": "python",
   "nbconvert_exporter": "python",
   "pygments_lexer": "ipython3",
   "version": "3.8.3"
  }
 },
 "nbformat": 4,
 "nbformat_minor": 4
}
