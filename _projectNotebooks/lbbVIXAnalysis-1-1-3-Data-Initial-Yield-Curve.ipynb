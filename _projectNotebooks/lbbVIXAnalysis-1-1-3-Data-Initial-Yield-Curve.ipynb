{
 "cells": [
  {
   "cell_type": "code",
   "execution_count": 57,
   "metadata": {},
   "outputs": [],
   "source": [
    "import pandas as pd\n",
    "import xml.etree.ElementTree as ET\n",
    "import csv\n",
    "import requests\n",
    "import xmltodict\n",
    "import io\n",
    "\n",
    "\n",
    "pd.set_option('display.max_columns',100)\n",
    "pd.set_option('display.max_rows', None)\n",
    "\n",
    "import requests\n",
    "from bs4 import BeautifulSoup\n",
    "\n",
    "import os\n",
    "from os import listdir\n"
   ]
  },
  {
   "cell_type": "code",
   "execution_count": 58,
   "metadata": {},
   "outputs": [
    {
     "data": {
      "text/plain": [
       "'C:\\\\Users\\\\cinderella\\\\dataSci\\\\DataScience\\\\eliteDataScience\\\\07-CapstoneProject\\\\Final\\\\Data-RAW-YieldCurve'"
      ]
     },
     "execution_count": 58,
     "metadata": {},
     "output_type": "execute_result"
    }
   ],
   "source": [
    "os.getcwd()"
   ]
  },
  {
   "cell_type": "code",
   "execution_count": 59,
   "metadata": {},
   "outputs": [],
   "source": [
    "os.chdir('C:\\\\Users\\\\cinderella\\\\dataSci\\\\DataScience\\\\eliteDataScience\\\\07-CapstoneProject\\\\Final\\\\Data-RAW-YieldCurve')\n",
    "#os.getcwd()\n",
    "###REVIEW THE READ ME FILE###### IN THE FOLDER Data-RAW-YieldCurve"
   ]
  },
  {
   "cell_type": "markdown",
   "metadata": {},
   "source": [
    "## STEP ONE -- JUST GET THE DATA"
   ]
  },
  {
   "cell_type": "code",
   "execution_count": 104,
   "metadata": {},
   "outputs": [
    {
     "data": {
      "text/plain": [
       "'#url = \\'https://www.treasury.gov/resource-center/data-chart-center/interest-rates/Pages/TextView.aspx?data=yieldAll\\'\\nurl = \"http://data.treasury.gov/feed.svc/DailyTreasuryYieldCurveRateData\"'"
      ]
     },
     "execution_count": 104,
     "metadata": {},
     "output_type": "execute_result"
    }
   ],
   "source": [
    "'''#url = 'https://www.treasury.gov/resource-center/data-chart-center/interest-rates/Pages/TextView.aspx?data=yieldAll'\n",
    "url = \"http://data.treasury.gov/feed.svc/DailyTreasuryYieldCurveRateData\"'''"
   ]
  },
  {
   "cell_type": "code",
   "execution_count": 105,
   "metadata": {},
   "outputs": [
    {
     "data": {
      "text/plain": [
       "\"myfileGetter = requests.get(url)\\nopen('c:/Users/cinderella/dataSci/DataScience/eliteDataScience/07-CapstoneProject/Final/Data-RAW-YieldCurve/DailyTreasuryYieldCurveRateData', 'wb').write(myfileGetter.content)\""
      ]
     },
     "execution_count": 105,
     "metadata": {},
     "output_type": "execute_result"
    }
   ],
   "source": [
    "'''myfileGetter = requests.get(url)\n",
    "open('c:/Users/cinderella/dataSci/DataScience/eliteDataScience/07-CapstoneProject/Final/Data-RAW-YieldCurve/DailyTreasuryYieldCurveRateData', 'wb').write(myfileGetter.content)'''"
   ]
  },
  {
   "cell_type": "code",
   "execution_count": 106,
   "metadata": {},
   "outputs": [
    {
     "data": {
      "text/plain": [
       "\"#https://towardsdatascience.com/processing-xml-in-python-elementtree-c8992941efd2\\n\\ntree = ET.parse('DailyTreasuryYieldCurveRateData')\\nxml_data = tree.getroot()\\nroot.tag\\n[elem.tag for elem in root.iter()]\\n\""
      ]
     },
     "execution_count": 106,
     "metadata": {},
     "output_type": "execute_result"
    }
   ],
   "source": [
    "'''#https://towardsdatascience.com/processing-xml-in-python-elementtree-c8992941efd2\n",
    "\n",
    "tree = ET.parse('DailyTreasuryYieldCurveRateData')\n",
    "xml_data = tree.getroot()\n",
    "root.tag\n",
    "[elem.tag for elem in root.iter()]\n",
    "'''"
   ]
  },
  {
   "cell_type": "code",
   "execution_count": 95,
   "metadata": {},
   "outputs": [],
   "source": [
    "'''for entry in root.iter('entry'):\n",
    "    print(entry.attrib)\n",
    "'''"
   ]
  },
  {
   "cell_type": "code",
   "execution_count": 103,
   "metadata": {},
   "outputs": [
    {
     "data": {
      "text/plain": [
       "\"xmlstr = ET.tostring(xml_data, encoding='utf8', method='xml')\\ndata_dict = dict(xmltodict.parse(xmlstr))\\nprint(data_dict)\\ndata_dict.to_csv('data_dict')\""
      ]
     },
     "execution_count": 103,
     "metadata": {},
     "output_type": "execute_result"
    }
   ],
   "source": [
    "'''xmlstr = ET.tostring(xml_data, encoding='utf8', method='xml')\n",
    "data_dict = dict(xmltodict.parse(xmlstr))\n",
    "print(data_dict)\n",
    "data_dict.to_csv('data_dict')'''"
   ]
  },
  {
   "cell_type": "code",
   "execution_count": 97,
   "metadata": {},
   "outputs": [],
   "source": [
    "'''yieldCurveCSV = pd.read_csv('DailyTreasuryYieldCurveRateData.csv')'''"
   ]
  },
  {
   "cell_type": "code",
   "execution_count": 101,
   "metadata": {},
   "outputs": [
    {
     "data": {
      "text/plain": [
       "'yieldCurveCSV.tail(1000)'"
      ]
     },
     "execution_count": 101,
     "metadata": {},
     "output_type": "execute_result"
    }
   ],
   "source": [
    "'''yieldCurveCSV.tail(1000)'''"
   ]
  },
  {
   "cell_type": "code",
   "execution_count": null,
   "metadata": {},
   "outputs": [],
   "source": []
  },
  {
   "cell_type": "code",
   "execution_count": 47,
   "metadata": {},
   "outputs": [],
   "source": [
    "os.chdir('C:\\\\Users\\\\cinderella\\\\dataSci\\\\DataScience\\\\eliteDataScience\\\\07-CapstoneProject\\\\Final\\\\')"
   ]
  },
  {
   "cell_type": "code",
   "execution_count": null,
   "metadata": {},
   "outputs": [],
   "source": []
  }
 ],
 "metadata": {
  "kernelspec": {
   "display_name": "Python 3",
   "language": "python",
   "name": "python3"
  },
  "language_info": {
   "codemirror_mode": {
    "name": "ipython",
    "version": 3
   },
   "file_extension": ".py",
   "mimetype": "text/x-python",
   "name": "python",
   "nbconvert_exporter": "python",
   "pygments_lexer": "ipython3",
   "version": "3.8.3"
  }
 },
 "nbformat": 4,
 "nbformat_minor": 4
}
